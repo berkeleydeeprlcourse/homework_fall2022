{
 "cells": [
  {
   "cell_type": "code",
   "execution_count": 1,
   "id": "5088613d-4116-4c4b-881b-f5d7c89e46de",
   "metadata": {},
   "outputs": [],
   "source": [
    "import matplotlib.pyplot as plt"
   ]
  },
  {
   "cell_type": "code",
   "execution_count": 3,
   "id": "1f7ce936-b997-4b74-b3cd-84f449c2758c",
   "metadata": {},
   "outputs": [
    {
     "data": {
      "text/plain": [
       "<matplotlib.legend.Legend at 0x7efe8f9a21f0>"
      ]
     },
     "execution_count": 3,
     "metadata": {},
     "output_type": "execute_result"
    },
    {
     "data": {
      "image/png": "[encoded data removed]",
      "text/plain": [
       "<Figure size 432x288 with 1 Axes>"
      ]
     },
     "metadata": {
      "needs_background": "light"
     },
     "output_type": "display_data"
    }
   ],
   "source": [
    "plt.errorbar([1], [-183], [5.7], label=\"Training\", fmt='o')\n",
    "plt.axhline(y = -183, color = 'black', linestyle = '-')\n",
    "\n",
    "plt.errorbar([1], [-43], [26], label=\"Evaluation\", fmt='o')\n",
    "plt.axhline(y = -43, color = 'black', linestyle = '-')\n",
    "\n",
    "plt.legend()"
   ]
  }
 ],
 "metadata": {
  "kernelspec": {
   "display_name": "Python 3 (ipykernel)",
   "language": "python",
   "name": "python3"
  },
  "language_info": {
   "codemirror_mode": {
    "name": "ipython",
    "version": 3
   },
   "file_extension": ".py",
   "mimetype": "text/x-python",
   "name": "python",
   "nbconvert_exporter": "python",
   "pygments_lexer": "ipython3",
   "version": "3.8.10"
  }
 },
 "nbformat": 4,
 "nbformat_minor": 5
}
